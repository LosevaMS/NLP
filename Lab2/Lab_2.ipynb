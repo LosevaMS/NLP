{
 "cells": [
  {
   "cell_type": "markdown",
   "metadata": {},
   "source": [
    "## <center> Лабораторная работа №2. Изучение yargy</center>"
   ]
  },
  {
   "cell_type": "code",
   "execution_count": 1,
   "metadata": {},
   "outputs": [],
   "source": [
    "import yargy\n",
    "import unittest"
   ]
  },
  {
   "cell_type": "code",
   "execution_count": 2,
   "metadata": {},
   "outputs": [],
   "source": [
    "from yargy import rule, Parser, and_, or_, not_\n",
    "from yargy.interpretation import fact\n",
    "from yargy.relations import gnc_relation\n",
    "from yargy.predicates import gram, eq, gte, length_eq\n",
    "from yargy.pipelines import morph_pipeline"
   ]
  },
  {
   "cell_type": "markdown",
   "metadata": {},
   "source": [
    "### 1. Распознавание ФИО"
   ]
  },
  {
   "cell_type": "markdown",
   "metadata": {},
   "source": [
    "Стандартные русские имена состоят из имени, отчества и фамилии. Попробуем составить правила для их определения. \n",
    "\n",
    "В словаре Opencorpora, который использует pymorphy2, существуют разные метки. Перечислим те, которые могут нам пригодиться в дальнейшем:\n",
    "    \n",
    "* `Surn` - для фамилий\n",
    "* `Name` - для имен\n",
    "* `Patr` - для отчеств\n",
    "* `NOUN` - для существительных\n",
    "* `Geox` - топоним (название какого-либо географического объекта)\n",
    "* `ADJF` - для прилагательных\n",
    "* `PREP` - для предлогов\n",
    "* `NPRO` - для местоимений-существительных\n",
    "* `Apro` - для местоимений\n",
    "* `gent` - для родительного падежа\n",
    "* `Abbr` - для аббревиатур\n",
    "* `femn` - для женского рода\n",
    "\n",
    "Создадим объект, в котором будут храниться распарсенные данные:"
   ]
  },
  {
   "cell_type": "code",
   "execution_count": 4,
   "metadata": {},
   "outputs": [],
   "source": [
    "Name = fact(\n",
    "    'Name',\n",
    "    ['first', 'middle', 'last']\n",
    ")"
   ]
  },
  {
   "cell_type": "markdown",
   "metadata": {},
   "source": [
    "Где `first` - это имя, `middle` - отчество и `last` - фамилия."
   ]
  },
  {
   "cell_type": "markdown",
   "metadata": {},
   "source": [
    "Для согласования по падежу, числу и роду будем использовать механизм согласования."
   ]
  },
  {
   "cell_type": "code",
   "execution_count": 5,
   "metadata": {},
   "outputs": [],
   "source": [
    "gnc = gnc_relation()"
   ]
  },
  {
   "cell_type": "markdown",
   "metadata": {},
   "source": [
    "Итак, подумаем, в каком виде могут встречаться русские имена в текстах. В большинстве случаев это:\n",
    "* ФИО полностью (Лосева Мария Сергеевна или Мария Сергеевна Лосева)\n",
    "* Фамилия и имя (Мария Лосева или Лосева Мария) \n",
    "* Имя и отчество (Мария Сергеевна)\n",
    "* Только имя, только фамилия, только отчество (Мария)\n",
    "* Не встречается ничего (этот случай нужно рассмотреть отдельно)"
   ]
  },
  {
   "cell_type": "code",
   "execution_count": 8,
   "metadata": {},
   "outputs": [],
   "source": [
    "FIRST = and_(gram('Name'), not_(gram('Abbr'))).interpretation(Name.first).match(gnc)\n",
    "\n",
    "MIDDLE = and_(gram('Patr'), not_(gram('Abbr'))).interpretation(Name.middle).match(gnc)\n",
    "\n",
    "LAST = and_(gram('Surn'), not_(gram('Abbr'))).interpretation(Name.last).match(gnc)"
   ]
  },
  {
   "cell_type": "markdown",
   "metadata": {},
   "source": [
    "Составим правила:"
   ]
  },
  {
   "cell_type": "code",
   "execution_count": 9,
   "metadata": {},
   "outputs": [],
   "source": [
    "NAME = or_(\n",
    "    rule(FIRST, MIDDLE, LAST), #Мария Сергеевна Лосева\n",
    "    rule(LAST, FIRST, MIDDLE.optional()), #Лосева Мария Сергеевна или Лосева Мария\n",
    "    rule(FIRST, or_(MIDDLE, LAST)), #Мария Сергеевна или Мария Лосева\n",
    "    rule(FIRST),\n",
    "    rule(MIDDLE),\n",
    "    rule(LAST)).interpretation(Name)"
   ]
  },
  {
   "cell_type": "code",
   "execution_count": 10,
   "metadata": {},
   "outputs": [],
   "source": [
    "NAME_PARSER = Parser(NAME)"
   ]
  },
  {
   "cell_type": "markdown",
   "metadata": {},
   "source": [
    "#### Тесты для пункта 1 (11 тестов)"
   ]
  },
  {
   "cell_type": "code",
   "execution_count": 16,
   "metadata": {},
   "outputs": [],
   "source": [
    "class TestPersons(unittest.TestCase):\n",
    "    \n",
    "    def setUp(self):\n",
    "        self.nothing = Name(first = None, middle = None, last = None)\n",
    "        self.parser = NAME_PARSER\n",
    "    \n",
    "    def getRes(self, testing_name):\n",
    "        find = self.parser.find(testing_name)\n",
    "        res = self.nothing if find is None else find.fact\n",
    "        return res\n",
    "    \n",
    "    def test_1(self):\n",
    "        res = self.getRes('Иванов Петр Васильевич')\n",
    "        self.assertEqual(res.first, 'Петр')\n",
    "        self.assertEqual(res.middle, 'Васильевич')\n",
    "        self.assertEqual(res.last, 'Иванов')\n",
    "\n",
    "    def test_2(self):\n",
    "        res = self.getRes('шипицын дмитрий вячеславович')\n",
    "        self.assertEqual(res.first, 'дмитрий')\n",
    "        self.assertEqual(res.middle, 'вячеславович')\n",
    "        self.assertEqual(res.last, 'шипицын')\n",
    "\n",
    "    def test_3(self):\n",
    "        res = self.getRes('елена владимировна')\n",
    "        self.assertEqual(res.first, 'елена')\n",
    "        self.assertEqual(res.middle, 'владимировна')\n",
    "        self.assertEqual(res.last, None)\n",
    "\n",
    "    def test_4(self):\n",
    "        res = self.getRes('басалаева юлия михайловна')\n",
    "        self.assertEqual(res.first, 'юлия')\n",
    "        self.assertEqual(res.middle, 'михайловна')\n",
    "        self.assertEqual(res.last, 'басалаева')\n",
    "\n",
    "    def test_5(self):\n",
    "        res = self.getRes('ну я как раз по фамилии есть смотри мам')\n",
    "        self.assertEqual(res.first, None)\n",
    "        self.assertEqual(res.middle, None)\n",
    "        self.assertEqual(res.last, None)\n",
    "\n",
    "    def test_6(self):\n",
    "        res = self.getRes('глушенков власти на android')\n",
    "        self.assertEqual(res.first, None)\n",
    "        self.assertEqual(res.middle, None)\n",
    "        self.assertEqual(res.last, 'глушенков')\n",
    "\n",
    "    def test_7(self):\n",
    "        res = self.getRes('фамилию сказать что за фамилия терентьева людмила')\n",
    "        self.assertEqual(res.first, 'людмила')\n",
    "        self.assertEqual(res.middle, None)\n",
    "        self.assertEqual(res.last, 'терентьева')\n",
    "\n",
    "    def test_8(self):\n",
    "        res = self.getRes('елена владимировна')\n",
    "        self.assertEqual(res.first, 'елена')\n",
    "        self.assertEqual(res.middle, 'владимировна')\n",
    "        self.assertEqual(res.last, None)\n",
    "\n",
    "    def test_9(self):\n",
    "        res = self.getRes('анюта')\n",
    "        self.assertEqual(res.first, 'анюта')\n",
    "        self.assertEqual(res.middle, None)\n",
    "        self.assertEqual(res.last, None)\n",
    "\n",
    "    def test_10(self):\n",
    "        res = self.getRes('р1 артем витальевич')\n",
    "        self.assertEqual(res.first, 'артем')\n",
    "        self.assertEqual(res.middle, 'витальевич')\n",
    "        self.assertEqual(res.last, None)\n",
    "        \n",
    "    def test_11(self):\n",
    "        res = self.getRes('фитнес веретельников олег викторович')\n",
    "        self.assertEqual(res.first, 'олег')\n",
    "        self.assertEqual(res.middle, 'викторович')\n",
    "        self.assertEqual(res.last, 'веретельников')"
   ]
  },
  {
   "cell_type": "code",
   "execution_count": 17,
   "metadata": {},
   "outputs": [
    {
     "name": "stderr",
     "output_type": "stream",
     "text": [
      "...........\n",
      "----------------------------------------------------------------------\n",
      "Ran 11 tests in 0.083s\n",
      "\n",
      "OK\n"
     ]
    },
    {
     "data": {
      "text/plain": [
       "<unittest.main.TestProgram at 0x10fd5e220>"
      ]
     },
     "execution_count": 17,
     "metadata": {},
     "output_type": "execute_result"
    }
   ],
   "source": [
    "unittest.main(argv=['first-arg-is-ignored'], exit=False)"
   ]
  },
  {
   "cell_type": "markdown",
   "metadata": {},
   "source": [
    "### 2. Распознавание адреса"
   ]
  },
  {
   "cell_type": "markdown",
   "metadata": {},
   "source": [
    "В идеале полный адрес состоит из:\n",
    "* Города\n",
    "* Улицы\n",
    "* Номера дома\n",
    "* Опционально: номера корпуса или строения\n",
    "* Номера квартиры (в частных домах его нет)\n",
    "\n",
    "Суть корпуса и строения приблизительно одинакова, поэтому мы решили их объединить в объекте распарсенных данных под именем `corpus`"
   ]
  },
  {
   "cell_type": "code",
   "execution_count": 19,
   "metadata": {},
   "outputs": [],
   "source": [
    "Address = fact(\n",
    "    'Address',\n",
    "    ['city', 'street', 'building', 'corpus', 'apartment']\n",
    ")"
   ]
  },
  {
   "cell_type": "markdown",
   "metadata": {},
   "source": [
    "В составлении правил нам могут понадобиться следующие знаки препинания:"
   ]
  },
  {
   "cell_type": "code",
   "execution_count": 20,
   "metadata": {},
   "outputs": [],
   "source": [
    "DOT = eq('.')\n",
    "SLASH = eq('/')\n",
    "HYPHEN = eq('-')\n",
    "SEMICOLON = eq(';')"
   ]
  },
  {
   "cell_type": "markdown",
   "metadata": {},
   "source": [
    "А также числа. Логично, что номера домов/корпусов/строений/квартир - это положительные числа, поэтому:"
   ]
  },
  {
   "cell_type": "code",
   "execution_count": 21,
   "metadata": {},
   "outputs": [],
   "source": [
    "NUMBER = gte(1)"
   ]
  },
  {
   "cell_type": "markdown",
   "metadata": {},
   "source": [
    "Будем составлять правила постепенно. Начнем с `города`:"
   ]
  },
  {
   "cell_type": "markdown",
   "metadata": {},
   "source": [
    "#### Город"
   ]
  },
  {
   "cell_type": "markdown",
   "metadata": {},
   "source": [
    "Обычно в адресе перед самим названием города могут стоят такие слова как город, гор. или г. Для названий городов можно использовать `gram('Geox')`, однако нужно учитывать, что в названиях городов могут встречаться `прилагательные` (Нижний/Великий Новгород), предлог `на` (Комсомольск-на-Амуре) или `-` (Санкт-Петербург). Чтобы нам было чуть проще, можно учитывать то, что в большинстве случаев одно из слов в названиях городов из нескольких слов является топонимом."
   ]
  },
  {
   "cell_type": "code",
   "execution_count": 22,
   "metadata": {},
   "outputs": [],
   "source": [
    "before_city = morph_pipeline(['город', 'гор.', 'гор', 'г.', 'г'])"
   ]
  },
  {
   "cell_type": "code",
   "execution_count": 91,
   "metadata": {},
   "outputs": [],
   "source": [
    "CITY = or_(\n",
    "    rule(before_city.optional(), or_(\n",
    "        rule(gram('ADJF').optional(), gram('Geox')), #Нижний Новгород\n",
    "        rule(gram('NOUN'), HYPHEN, gram('Geox')), #Санкт-Петербург\n",
    "        rule(gram('Geox'), HYPHEN, gram('NOUN')), #Пыть-Ях\n",
    "        rule(gram('Geox'), HYPHEN, gram('PREP'), HYPHEN, gram('Geox')))), #Комсомольск-на-Амуре\n",
    "    rule(before_city, gram('ADJF'))).interpretation(Address.city) #город Видное"
   ]
  },
  {
   "cell_type": "markdown",
   "metadata": {},
   "source": [
    "#### Улица и дом"
   ]
  },
  {
   "cell_type": "markdown",
   "metadata": {},
   "source": [
    "Чаще всего название улицы представляет собой сочетание слова `улица (ул.)` и слов(а) в родительном падеже:\n",
    "* улица Невзоровых\n",
    "* улица Героя Усилова\n",
    "* улица 30 лет Победы\n",
    "\n",
    "Маркером того, что перед нами именно название улицы, а не просто слово в родительном падеже, может служить следующий за улицей номер дома:\n",
    "* улица Невзоровых, 64/2\n",
    "* Невзоровых, 64/2\n",
    "\n",
    "Либо специальное слово:\n",
    "* проезд Мунарева\n",
    "* проспект Комсомольский\n",
    "\n",
    "Либо все вместе:\n",
    "* проспект Комсомольский, 12"
   ]
  },
  {
   "cell_type": "code",
   "execution_count": 61,
   "metadata": {},
   "outputs": [],
   "source": [
    "before_street = morph_pipeline(['улица', 'ул', 'ул.', 'тракт', 'проезд', 'вал', 'проспект', 'микрорайон', \n",
    "                                'аллеи', 'шоссе', 'маршала', 'героя', 'генерала армии', 'бульвар'])"
   ]
  },
  {
   "cell_type": "markdown",
   "metadata": {},
   "source": [
    "Условно все улицы в текстах можно поделить на 2 группы:\n",
    "* С номером дома\n",
    "* Без номера дома\n",
    "\n",
    "Понятное дело, что улицу с указанным номером дома будет легче распознать. Если же номера дома нет, нужно ориентироваться на вспомогательные слова (улица, проезд, проспект и пр.)"
   ]
  },
  {
   "cell_type": "code",
   "execution_count": 189,
   "metadata": {},
   "outputs": [],
   "source": [
    "STREET_WITHOUT_HOUSE = or_(\n",
    "    rule(before_street, NUMBER, or_(gram('NOUN'), gram('ADJF')), gram('NOUN')), #улица 70 лет Октября\n",
    "    rule(before_street.optional(), before_street, gram('gent'), gram('gent').optional()), #улица героя Усилова/героя Усилова\n",
    "    rule(before_street, gram('ADJF')), #проспект комсомольский\n",
    "    rule(gram('ADJF'), before_street), #тюменский тракт\n",
    "    rule(NUMBER, and_(not_(gram('Apro')), gram('ADJF'), gram('femn'))),\n",
    "    ).interpretation(Address.street)"
   ]
  },
  {
   "cell_type": "code",
   "execution_count": 213,
   "metadata": {},
   "outputs": [],
   "source": [
    "STREET_WITH_HOUSE = or_(\n",
    "    rule(before_street.optional(), and_(gram('Name'), gram('gent')).optional(), or_(gram('Name'), gram('Surn'))), #Усилова\n",
    "    rule(and_(gram('Name'), gram('gent')).optional(), gram('Surn')),\n",
    "    rule(NUMBER.optional(), and_(not_(gram('Apro')), gram('ADJF')), gram('NOUN').optional()), #Октябрьская, 3 парковая, Старый Гай\n",
    "    rule(and_(gram('gent'), not_(gram('NPRO')))), #артема\n",
    "    ).interpretation(Address.street)"
   ]
  },
  {
   "cell_type": "markdown",
   "metadata": {},
   "source": [
    "Перед номером дома могут стоять следующие слова:"
   ]
  },
  {
   "cell_type": "code",
   "execution_count": 35,
   "metadata": {},
   "outputs": [],
   "source": [
    "before_building = morph_pipeline(['дом', 'дом номер', 'д.', 'д'])"
   ]
  },
  {
   "cell_type": "markdown",
   "metadata": {},
   "source": [
    "Однако это необязательно, так как иногда номер дома пишут сразу после названия улицы."
   ]
  },
  {
   "cell_type": "code",
   "execution_count": 36,
   "metadata": {},
   "outputs": [],
   "source": [
    "HOUSE = rule(before_building.optional(), NUMBER, and_(not_(gram('VERB')), length_eq(1)).optional()\n",
    "            ).interpretation(Address.building) #дом 12, дом 12а, 12а"
   ]
  },
  {
   "cell_type": "markdown",
   "metadata": {},
   "source": [
    "В тестах есть ситуации, когда слово `дом` повторяется несколько раз. Учтем это:"
   ]
  },
  {
   "cell_type": "code",
   "execution_count": 37,
   "metadata": {},
   "outputs": [],
   "source": [
    "HOUSE_REPEAT = rule(before_building.optional(), before_building.optional()) "
   ]
  },
  {
   "cell_type": "markdown",
   "metadata": {},
   "source": [
    "#### Корпус или строение"
   ]
  },
  {
   "cell_type": "code",
   "execution_count": 44,
   "metadata": {},
   "outputs": [],
   "source": [
    "before_corpus = morph_pipeline(['корпус', 'корп', 'к', 'корп.', 'к.', 'строение', 'ст', '/'])"
   ]
  },
  {
   "cell_type": "code",
   "execution_count": 45,
   "metadata": {},
   "outputs": [],
   "source": [
    "CORPUS = rule(before_corpus.optional(), NUMBER).interpretation(Address.corpus)"
   ]
  },
  {
   "cell_type": "code",
   "execution_count": null,
   "metadata": {},
   "outputs": [],
   "source": [
    "CORPUS_NUMBER = rule(NUMBER).interpretation(Address.corpus)"
   ]
  },
  {
   "cell_type": "markdown",
   "metadata": {},
   "source": [
    "#### Квартира"
   ]
  },
  {
   "cell_type": "code",
   "execution_count": 41,
   "metadata": {},
   "outputs": [],
   "source": [
    "before_apartment = morph_pipeline(['квартира', 'кв.', 'кв'])"
   ]
  },
  {
   "cell_type": "code",
   "execution_count": 43,
   "metadata": {},
   "outputs": [],
   "source": [
    "FLAT = rule(before_apartment.optional(), NUMBER).interpretation(Address.apartment)"
   ]
  },
  {
   "cell_type": "markdown",
   "metadata": {},
   "source": [
    "Теперь попробуем составить правила:"
   ]
  },
  {
   "cell_type": "code",
   "execution_count": 386,
   "metadata": {},
   "outputs": [],
   "source": [
    "ADDRESS = or_(\n",
    "    rule(CITY), #город Москва\n",
    "    rule(CITY.optional(), SEMICOLON.optional(), gram('gent').optional(), gram('gent').optional(), NUMBER.optional(), STREET_WITH_HOUSE, HOUSE_REPEAT.optional(), HOUSE, CORPUS.optional(), FLAT.optional()),\n",
    "    rule(CITY.optional(), STREET_WITH_HOUSE, HOUSE_REPEAT.optional(), HOUSE, STREET_WITH_HOUSE, HOUSE, CITY.optional()),\n",
    "    rule(CITY.optional(), HOUSE.optional(), STREET_WITHOUT_HOUSE, CITY.optional(), HOUSE_REPEAT.optional(), HOUSE.optional()),\n",
    "    rule(CITY.optional(), STREET_WITHOUT_HOUSE, HOUSE_REPEAT.optional(), HOUSE, CORPUS.optional(), FLAT.optional()),\n",
    "    rule(CITY.optional(), NUMBER, STREET_WITH_HOUSE, HOUSE_REPEAT.optional(), HOUSE, CORPUS.optional()),\n",
    "    ).interpretation(Address)"
   ]
  },
  {
   "cell_type": "code",
   "execution_count": 387,
   "metadata": {},
   "outputs": [],
   "source": [
    "ADDRESS_PARSER = Parser(ADDRESS)"
   ]
  },
  {
   "cell_type": "markdown",
   "metadata": {},
   "source": [
    "#### Тесты для пункта 2 (8+16+11+6+30+32=103 теста)"
   ]
  },
  {
   "cell_type": "code",
   "execution_count": 388,
   "metadata": {},
   "outputs": [],
   "source": [
    "class TestAddress(unittest.TestCase):\n",
    "    \n",
    "    def setUp(self):\n",
    "        self.nothing = Address(city = None, street = None, building = None, corpus = None, apartment = None)\n",
    "        self.parser = ADDRESS_PARSER\n",
    "        \n",
    "    def getRes(self, testing_address):\n",
    "        find = self.parser.find(testing_address)\n",
    "        res = self.nothing if find is None else find.fact\n",
    "        return res\n",
    "    \n",
    "    #Квартиры\n",
    "    def test_1(self):\n",
    "        res = self.getRes('проспект комсомольский 50')\n",
    "        self.assertEqual(res.apartment, None)\n",
    "\n",
    "    def test_2(self):\n",
    "        res = self.getRes('город липецк улица катукова 36 a')\n",
    "        self.assertEqual(res.apartment, None)\n",
    "\n",
    "    def test_3(self):\n",
    "        res = self.getRes('сургут улица рабочая дом 31а')\n",
    "        self.assertEqual(res.apartment, None)\n",
    "\n",
    "    def test_4(self):\n",
    "        res = self.getRes('город липецк доватора 18')\n",
    "        self.assertEqual(res.apartment, None)\n",
    "\n",
    "    def test_5(self):\n",
    "        res = self.getRes('ну бехтеева 9 квартира 310')\n",
    "        self.assertEqual(res.apartment, 'квартира 310')\n",
    "        \n",
    "    def test_6(self):\n",
    "        res = self.getRes('Кусковская 19 корпус 1')\n",
    "        self.assertEqual(res.apartment, None)\n",
    "\n",
    "    def test_7(self):\n",
    "        res = self.getRes('марша захарова 12 маршала захарова дом 12')\n",
    "        self.assertEqual(res.apartment, None)\n",
    "\n",
    "    def test_8(self):\n",
    "        res = self.getRes('null')\n",
    "        self.assertEqual(res.apartment, None)\n",
    "    \n",
    "    #Города\n",
    "    def test_9(self):\n",
    "        res = self.getRes('проспект комсомольский 50')\n",
    "        self.assertEqual(res.city, None)\n",
    "\n",
    "    def test_10(self):\n",
    "        res = self.getRes('город липецк улица катукова 36 a')\n",
    "        self.assertEqual(res.city, 'город липецк')\n",
    "\n",
    "    def test_11(self):\n",
    "        res = self.getRes('сургут улица рабочая дом 31а')\n",
    "        self.assertEqual(res.city, 'сургут')\n",
    "\n",
    "    def test_12(self):\n",
    "        res = self.getRes('город липецк доватора 18')\n",
    "        self.assertEqual(res.city, 'город липецк')\n",
    "\n",
    "    def test_13(self):\n",
    "        res = self.getRes('ну бехтеева 9 квартира 310')\n",
    "        self.assertEqual(res.city, None)\n",
    "\n",
    "    def test_14(self):\n",
    "        res = self.getRes('сургут югорская 30/2')\n",
    "        self.assertEqual(res.city, 'сургут')\n",
    "\n",
    "    def test_15(self):\n",
    "        res = self.getRes('индекс 12 мне вот этого не надо')\n",
    "        self.assertEqual(res.city, None)\n",
    "\n",
    "    def test_16(self):\n",
    "        res = self.getRes('ты сургут улица 30 лет победы')\n",
    "        self.assertEqual(res.city, 'сургут')\n",
    "\n",
    "    def test_17(self):\n",
    "        res = self.getRes('надо 50% город нальчик горького 1257')\n",
    "        self.assertEqual(res.city, 'город нальчик')\n",
    "\n",
    "    def test_18(self):\n",
    "        res = self.getRes('null')\n",
    "        self.assertEqual(res.city, None)\n",
    "\n",
    "    def test_19(self):\n",
    "        res = self.getRes('60 мегабит я')\n",
    "        self.assertEqual(res.city, None)\n",
    "\n",
    "    def test_20(self):\n",
    "        res = self.getRes('сургут крылова 53/4')\n",
    "        self.assertEqual(res.city, 'сургут')\n",
    "\n",
    "    def test_21(self):\n",
    "        res = self.getRes('так москва хамовнический вал но я думаю что я еще обсужу со своими домашними то есть вот у нас цифровое телевидение есть но акадо вот вы не спешите я тогда вам наберу но либо в приложения')\n",
    "        self.assertEqual(res.city, 'москва')\n",
    "\n",
    "    def test_22(self):\n",
    "        res = self.getRes('мое 3 парковая')\n",
    "        self.assertEqual(res.city, None)\n",
    "\n",
    "    def test_23(self):\n",
    "        res = self.getRes('Пришвина 17')\n",
    "        self.assertEqual(res.city, None)\n",
    "\n",
    "    def test_24(self):\n",
    "        res = self.getRes('Старый Гай 1 корпус 2')\n",
    "        self.assertEqual(res.city, None)\n",
    "    \n",
    "    #Номера домов и корпусов\n",
    "    def test_25(self):\n",
    "        res = self.getRes('проспект комсомольский 50')\n",
    "        self.assertEqual(res.building, '50')\n",
    "\n",
    "    def test_26(self):\n",
    "        res = self.getRes('город липецк улица катукова 36 a')\n",
    "        self.assertEqual(res.building, '36 a')\n",
    "\n",
    "    def test_27(self):\n",
    "        res = self.getRes('сургут улица рабочая дом 31а')\n",
    "        self.assertEqual(res.building, 'дом 31а')\n",
    "\n",
    "    def test_28(self):\n",
    "        res = self.getRes('город липецк доватора 18')\n",
    "        self.assertEqual(res.building, '18')\n",
    "\n",
    "    def test_29(self):\n",
    "        res = self.getRes('ну бехтеева 9 квартира 310')\n",
    "        self.assertEqual(res.building, '9')\n",
    "\n",
    "    def test_30(self):\n",
    "        res = self.getRes('артема 32 квартира 8')\n",
    "        self.assertEqual(res.building, '32')\n",
    "\n",
    "    def test_31(self):\n",
    "        res = self.getRes('город липецк полиграфическая дом 4')\n",
    "        self.assertEqual(res.building, 'дом 4')\n",
    "\n",
    "    def test_32(self):\n",
    "        res = self.getRes('сколько стоит нет arkadata у нас есть москва каширское шоссе 55 корпус 1')\n",
    "        self.assertEqual(res.building, '55')\n",
    "        self.assertEqual(res.corpus, 'корпус 1')\n",
    "\n",
    "    def test_33(self):\n",
    "        res = self.getRes('люберцы октябрьский проспект 10 корпус 1')\n",
    "        self.assertEqual(res.building, '10')\n",
    "        self.assertEqual(res.corpus, 'корпус 1')\n",
    "\n",
    "    def test_34(self):\n",
    "        res = self.getRes('бульвар миттова 24')\n",
    "        self.assertEqual(res.building, '24')\n",
    "\n",
    "    def test_35(self):\n",
    "        res = self.getRes('стол вы знаете москва алтуфьевское 78')\n",
    "        self.assertEqual(res.building, '78')\n",
    "        \n",
    "    #Адрес Санкт-Петербурга\n",
    "    def test_36(self):\n",
    "        res = self.getRes('санкт-петербург школьная 20')\n",
    "        self.assertEqual('санкт-петербург', res.city)\n",
    "        self.assertEqual('школьная', res.street)\n",
    "        self.assertEqual('20', res.building)\n",
    "\n",
    "    def test_37(self):\n",
    "        res = self.getRes('санкт-петербург юрия гагарина 22 к2')\n",
    "        self.assertEqual('санкт-петербург', res.city)\n",
    "        self.assertEqual('юрия гагарина', res.street)\n",
    "        self.assertEqual('22', res.building)\n",
    "        self.assertEqual('к2', res.corpus)\n",
    "\n",
    "    def test_38(self):\n",
    "        res = self.getRes('питер гагарина 22 к2')\n",
    "        self.assertEqual('питер', res.city)\n",
    "        self.assertEqual('гагарина', res.street)\n",
    "        self.assertEqual('22', res.building)\n",
    "        self.assertEqual('к2', res.corpus)\n",
    "\n",
    "    def test_39(self):\n",
    "        res = self.getRes(\"санкт-петербург;юнтоловский 43 корпус 1\")\n",
    "        self.assertEqual('санкт-петербург', res.city)\n",
    "        self.assertEqual('юнтоловский', res.street)\n",
    "        self.assertEqual('43', res.building)\n",
    "        self.assertEqual('корпус 1', res.corpus)\n",
    "\n",
    "    def test_40(self):\n",
    "        res = self.getRes(\"санкт-петербург;юнтоловский 43 строение 1\")\n",
    "        self.assertEqual('санкт-петербург', res.city)\n",
    "        self.assertEqual('юнтоловский', res.street)\n",
    "        self.assertEqual('43', res.building)\n",
    "        self.assertEqual('строение 1', res.corpus)\n",
    "\n",
    "    def test_41(self):\n",
    "        res = self.getRes(\"юнтоловский 43 строение 1\")\n",
    "        self.assertEqual('юнтоловский', res.street)\n",
    "        self.assertEqual('43', res.building)\n",
    "        self.assertEqual('строение 1', res.corpus)\n",
    "        \n",
    "    #Полные адреса\n",
    "    def test_42(self):\n",
    "        res = self.getRes('проспект комсомольский 50')\n",
    "        self.assertEqual( 'проспект комсомольский', res.street)\n",
    "        self.assertEqual('50', res.building)\n",
    "\n",
    "    def test_43(self):\n",
    "        res = self.getRes('город липецк улица катукова 36 a')\n",
    "        self.assertEqual('город липецк', res.city)\n",
    "        self.assertEqual('улица катукова', res.street)\n",
    "        self.assertEqual('36 a', res.building)\n",
    "\n",
    "    def test_44(self):\n",
    "        res = self.getRes('сургут улица рабочая дом 31а')\n",
    "        self.assertEqual('сургут', res.city)\n",
    "        self.assertEqual('улица рабочая', res.street)\n",
    "        self.assertEqual('дом 31а', res.building)\n",
    "\n",
    "    def test_45(self):\n",
    "        res = self.getRes('город липецк доватора 18')\n",
    "        self.assertEqual('город липецк', res.city)\n",
    "        self.assertEqual('доватора', res.street)\n",
    "        self.assertEqual('18', res.building)\n",
    "\n",
    "    def test_46(self):\n",
    "        res = self.getRes('ну бехтеева 9 квартира 310')\n",
    "        self.assertEqual(None, res.city)\n",
    "        self.assertEqual('бехтеева', res.street)\n",
    "        self.assertEqual('9', res.building)\n",
    "        self.assertEqual('квартира 310', res.apartment)\n",
    "\n",
    "    def test_47(self):\n",
    "        res = self.getRes('московская 34б')\n",
    "        self.assertEqual(None, res.city)\n",
    "        self.assertEqual( 'московская', res.street)\n",
    "        self.assertEqual('34б', res.building)\n",
    "        self.assertEqual(None, res.apartment)\n",
    "\n",
    "    def test_48(self):\n",
    "        res = self.getRes('улица минина дом 1')\n",
    "        self.assertEqual(None, res.city)\n",
    "        self.assertEqual('улица минина', res.street)\n",
    "        self.assertEqual('дом 1', res.building)\n",
    "        self.assertEqual( None, res.apartment)\n",
    "\n",
    "    def test_49(self):\n",
    "        res = self.getRes('сколько улица 30 лет победы 50/46')\n",
    "        self.assertEqual(None, res.city)\n",
    "        self.assertEqual('улица 30 лет победы', res.street)\n",
    "        self.assertEqual('50', res.building)\n",
    "        self.assertEqual('/46', res.corpus)\n",
    "\n",
    "    def test_50(self):\n",
    "        res = self.getRes('тюменский тракт 10')\n",
    "        self.assertEqual(None, res.city, )\n",
    "        self.assertEqual('тюменский тракт', res.street)\n",
    "        self.assertEqual('10', res.building)\n",
    "        self.assertEqual(None, res.apartment)\n",
    "\n",
    "    def test_51(self):\n",
    "        res = self.getRes('береговая 43 береговая 43 сургут')\n",
    "        self.assertEqual('сургут', res.city)\n",
    "        self.assertEqual('береговая', res.street)\n",
    "        self.assertEqual('43', res.building)\n",
    "        self.assertEqual(None, res.apartment)\n",
    "\n",
    "    def test_52(self):\n",
    "        res = self.getRes('сургут югорская 30/2')\n",
    "        self.assertEqual('сургут', res.city)\n",
    "        self.assertEqual('югорская', res.street)\n",
    "        self.assertEqual('30', res.building)\n",
    "        self.assertEqual('/2', res.corpus)\n",
    "        self.assertEqual( None, res.apartment)\n",
    "\n",
    "    def test_53(self):\n",
    "        res = self.getRes('индекс 12 мне вот этого не надо')\n",
    "        self.assertEqual(None, res.city, )\n",
    "        self.assertEqual(None, res.street,)\n",
    "        self.assertEqual(None, res.building)\n",
    "        self.assertEqual(None, res.apartment)\n",
    "\n",
    "    def test_54(self):\n",
    "        res = self.getRes('город сургут улица фармана салманова 4')\n",
    "        self.assertEqual('город сургут', res.city)\n",
    "        self.assertEqual('улица фармана салманова', res.street)\n",
    "        self.assertEqual('4', res.building)\n",
    "        self.assertEqual( None, res.apartment)\n",
    "\n",
    "    def test_55(self):\n",
    "        res = self.getRes('зеленые аллеи город видное дом 8')\n",
    "        self.assertEqual('город видное', res.city, )\n",
    "        self.assertEqual('зеленые аллеи', res.street)\n",
    "        self.assertEqual('дом 8', res.building)\n",
    "        self.assertEqual( None, res.apartment)\n",
    "\n",
    "    def test_56(self):\n",
    "        res = self.getRes('зелинского улица зелинского дом 2')\n",
    "        self.assertEqual(None, res.city,)\n",
    "        self.assertEqual('улица зелинского', res.street)\n",
    "        self.assertEqual('дом 2', res.building)\n",
    "        self.assertEqual(None, res.apartment)\n",
    "\n",
    "    def test_57(self):\n",
    "        res = self.getRes('Кусковская 19 корпус 1 ')\n",
    "        self.assertEqual(None, res.city)\n",
    "        self.assertEqual('Кусковская', res.street)\n",
    "        self.assertEqual('19', res.building)\n",
    "        self.assertEqual('корпус 1', res.corpus)\n",
    "        self.assertEqual(None, res.apartment)\n",
    "\n",
    "    def test_58(self):\n",
    "        res = self.getRes('москва щелковское шоссе 35')\n",
    "        self.assertEqual('москва', res.city)\n",
    "        self.assertEqual('щелковское шоссе', res.street)\n",
    "        self.assertEqual('35', res.building)\n",
    "        self.assertEqual(None, res.apartment)\n",
    "\n",
    "    def test_59(self):\n",
    "        res = self.getRes('город москва марьинский парк дом 25 корпус 2')\n",
    "        self.assertEqual('город москва', res.city,)\n",
    "        self.assertEqual('марьинский парк', res.street,)\n",
    "        self.assertEqual('дом 25', res.building)\n",
    "        self.assertEqual('корпус 2', res.corpus)\n",
    "        self.assertEqual(None, res.apartment)\n",
    "\n",
    "    def test_60(self):\n",
    "        res = self.getRes('Старый Гай 1 корпус 2')\n",
    "        self.assertEqual('Старый Гай'.lower(), res.street.lower(), None)\n",
    "        self.assertEqual('1', res.building)\n",
    "        self.assertEqual('корпус 2', res.corpus)\n",
    "        self.assertEqual(None, res.apartment)\n",
    "\n",
    "    def test_61(self):\n",
    "        res = self.getRes('улица 3 почтовое отделение дом 62')\n",
    "        self.assertEqual(None, res.city)\n",
    "        self.assertEqual('улица 3 почтовое отделение', res.street)\n",
    "        self.assertEqual('дом 62', res.building)\n",
    "        self.assertEqual(None, res.apartment)\n",
    "\n",
    "    def test_62(self):\n",
    "        res = self.getRes('нижний новгород улица июльских дней 19')\n",
    "        self.assertEqual('нижний новгород', res.city,)\n",
    "        self.assertEqual('улица июльских дней', res.street)\n",
    "        self.assertEqual('19', res.building)\n",
    "        self.assertEqual(None, res.apartment)\n",
    "\n",
    "    def test_63(self):\n",
    "        res = self.getRes('так москва хамовнический вал но я думаю что я еще обсужу со своими домашними то есть вот у нас цифровое телевидение есть но акадо вот вы не спешите я тогда вам наберу но либо в приложения')\n",
    "        self.assertEqual('москва', res.city)\n",
    "        self.assertEqual('хамовнический вал', res.street)\n",
    "        self.assertEqual(None, res.building)\n",
    "        self.assertEqual(None, res.apartment)\n",
    "\n",
    "    def test_64(self):\n",
    "        res = self.getRes('город сургут улица семена билецкого 1')\n",
    "        self.assertEqual('город сургут', res.city)\n",
    "        self.assertEqual('улица семена билецкого', res.street)\n",
    "        self.assertEqual('1', res.building)\n",
    "        self.assertEqual(None, res.apartment)\n",
    "    \n",
    "    def test_65(self):\n",
    "        res = self.getRes('улица значит антонова овсиенко дом 19/2')\n",
    "        self.assertEqual('антонова овсиенко', res.street)\n",
    "        self.assertEqual('дом 19', res.building)\n",
    "        self.assertEqual('/2', res.corpus)\n",
    "\n",
    "    def test_66(self):\n",
    "        res = self.getRes('улица генерала армии епишева дом 9')\n",
    "        self.assertEqual('улица генерала армии епишева', res.street)\n",
    "        self.assertEqual('дом 9', res.building)\n",
    "\n",
    "    def test_67(self):\n",
    "        res = self.getRes('улица академика байкова дом 9')\n",
    "        self.assertEqual('дом 9', res.building)\n",
    "        self.assertEqual('улица академика байкова', res.street)\n",
    "\n",
    "    def test_68(self):\n",
    "        res = self.getRes('улица академика байкова дом дом дом 9')\n",
    "        self.assertEqual('дом 9', res.building)\n",
    "        self.assertEqual('улица академика байкова', res.street)\n",
    "\n",
    "    def test_69(self):\n",
    "        res = self.getRes('улица подзаборного байкова дом дом дом 9')\n",
    "        self.assertEqual('дом 9', res.building)\n",
    "        self.assertEqual('улица подзаборного байкова', res.street)\n",
    "\n",
    "    def test_70(self):\n",
    "        res = self.getRes('улица монтажника байкова дом дом дом 9')\n",
    "        self.assertEqual('дом 9', res.building)\n",
    "        self.assertEqual('улица монтажника байкова', res.street)\n",
    "\n",
    "    def test_71(self):\n",
    "        res = self.getRes('такзначит у меня дом номер 12 а улица джона рида')\n",
    "        self.assertEqual('улица джона рида', res.street)\n",
    "        self.assertEqual('дом номер 12 а', res.building)\n",
    "        \n",
    "    #Улицы\n",
    "    def test_72(self):\n",
    "        res = self.getRes('проспект комсомольский 50')\n",
    "        self.assertEqual('проспект комсомольский', res.street)\n",
    "\n",
    "    def test_73(self):\n",
    "        res = self.getRes('город липецк улица катукова 36 a')\n",
    "        self.assertEqual('улица катукова', res.street)\n",
    "\n",
    "    def test_74(self):\n",
    "        res = self.getRes('сургут улица рабочая дом 31а')\n",
    "        self.assertEqual('улица рабочая', res.street)\n",
    "\n",
    "    def test_75(self):\n",
    "        res = self.getRes('город липецк доватора 18')\n",
    "        self.assertEqual('доватора', res.street)\n",
    "\n",
    "    def test_76(self):\n",
    "        res = self.getRes('ну бехтеева 9 квартира 310')\n",
    "        self.assertEqual('бехтеева', res.street)\n",
    "\n",
    "    def test_77(self):\n",
    "        res = self.getRes('улица меркулова дом 24')\n",
    "        self.assertEqual('улица меркулова', res.street)\n",
    "\n",
    "    def test_78(self):\n",
    "        res = self.getRes('октябрьская 48 частный дом город сургут')\n",
    "        self.assertEqual('октябрьская', res.street)\n",
    "\n",
    "    def test_79(self):\n",
    "        res = self.getRes('сколько улица 30 лет победы 50 46')\n",
    "        self.assertEqual('улица 30 лет победы', res.street)\n",
    "\n",
    "    def test_80(self):\n",
    "        res = self.getRes('тюменский тракт 10')\n",
    "        self.assertEqual('тюменский тракт', res.street)\n",
    "\n",
    "    def test_81(self):\n",
    "        res = self.getRes('сургут югорская 30/2')\n",
    "        self.assertEqual('югорская', res.street)\n",
    "\n",
    "    def test_82(self):\n",
    "        res = self.getRes('индекс 12 мне вот этого не надо')\n",
    "        self.assertEqual(None, res.street)\n",
    "\n",
    "    def test_83(self):\n",
    "        res = self.getRes('старый оскол микрорайон олимпийский дом 23 квартира 105')\n",
    "        self.assertEqual('микрорайон олимпийский', res.street)\n",
    "\n",
    "    def test_84(self):\n",
    "        res = self.getRes('город сургут улица фармана салманова 4')\n",
    "        self.assertEqual('улица фармана салманова', res.street)\n",
    "\n",
    "    def test_85(self):\n",
    "        res = self.getRes('ты сургут улица 30 лет победы')\n",
    "        self.assertEqual('улица 30 лет победы', res.street)\n",
    "\n",
    "    def test_86(self):\n",
    "        res = self.getRes('проезд мунарева 2')\n",
    "        self.assertEqual('проезд мунарева', res.street)\n",
    "\n",
    "    def test_87(self):\n",
    "        res = self.getRes('домашний адрес где я живу')\n",
    "        self.assertEqual(None, res.street)\n",
    "\n",
    "    def test_88(self):\n",
    "        res = self.getRes('артема 32 квартира 8')\n",
    "        self.assertEqual('артема', res.street)\n",
    "\n",
    "    def test_89(self):\n",
    "        res = self.getRes('знаете знаете у меня дорогая девочка у меня уже все есть и менять из из одного переходить на другой я не хочу поэтому какой город квартира какой ничего я вам сообщать не хочу поэтому до свидания я ничего не')\n",
    "        self.assertEqual(None, res.street)\n",
    "\n",
    "    def test_90(self):\n",
    "        res = self.getRes('новогиреевская 34')\n",
    "        self.assertEqual('новогиреевская', res.street)\n",
    "\n",
    "    def test_91(self):\n",
    "        res = self.getRes('мое 3 парковая')\n",
    "        self.assertEqual('3 парковая', res.street)\n",
    "\n",
    "    def test_92(self):\n",
    "        res = self.getRes('москва мусы джалиля 38 корпус 2')\n",
    "        self.assertEqual('мусы джалиля', res.street)\n",
    "\n",
    "    def test_93(self):\n",
    "        res = self.getRes('надо 50% город нальчик горького 1257')\n",
    "        self.assertEqual('горького', res.street)\n",
    "\n",
    "    def test_94(self):\n",
    "        res = self.getRes('сколько стоит нет arkadata у нас есть москва каширское шоссе 55 корпус 1')\n",
    "        self.assertEqual('каширское шоссе', res.street)\n",
    "\n",
    "    def test_95(self):\n",
    "        res = self.getRes('зеленые аллеи город видное дом 8')\n",
    "        self.assertEqual('зеленые аллеи', res.street)\n",
    "\n",
    "    def test_96(self):\n",
    "        res = self.getRes('дмитрия ульянова 17 корпус 1 москва')\n",
    "        self.assertEqual('дмитрия ульянова', res.street)\n",
    "\n",
    "    def test_97(self):\n",
    "        res = self.getRes('null')\n",
    "        self.assertEqual(None, res.street)\n",
    "\n",
    "    def test_98(self):\n",
    "        res = self.getRes('стол вы знаете москва алтуфьевское 78')\n",
    "        self.assertEqual('алтуфьевское', res.street)\n",
    "\n",
    "    def test_99(self):\n",
    "        res = self.getRes('марша захарова 12 маршала захарова дом 12')\n",
    "        self.assertEqual('маршала захарова', res.street)\n",
    "\n",
    "    def test_100(self):\n",
    "        res = self.getRes('а зачем')\n",
    "        self.assertEqual(None, res.street)\n",
    "\n",
    "    def test_101(self):\n",
    "        res = self.getRes('Кавказский 16')\n",
    "        self.assertEqual('Кавказский', res.street)\n",
    "\n",
    "    def test_102(self):\n",
    "        res = self.getRes('Старый Гай 1 корпус 2')\n",
    "        self.assertEqual('Старый Гай', res.street)\n",
    "\n",
    "    def test_103(self):\n",
    "        res = self.getRes('зелинского улица зелинского дом 2')\n",
    "        self.assertEqual('улица зелинского', res.street)\n",
    "    "
   ]
  },
  {
   "cell_type": "code",
   "execution_count": 389,
   "metadata": {},
   "outputs": [
    {
     "name": "stderr",
     "output_type": "stream",
     "text": [
      "..................................................................................................................\n",
      "----------------------------------------------------------------------\n",
      "Ran 114 tests in 2.913s\n",
      "\n",
      "OK\n"
     ]
    },
    {
     "data": {
      "text/plain": [
       "<unittest.main.TestProgram at 0x164cc7040>"
      ]
     },
     "execution_count": 389,
     "metadata": {},
     "output_type": "execute_result"
    }
   ],
   "source": [
    "unittest.main(argv=['first-arg-is-ignored'], exit=False)"
   ]
  },
  {
   "cell_type": "code",
   "execution_count": null,
   "metadata": {},
   "outputs": [],
   "source": []
  }
 ],
 "metadata": {
  "kernelspec": {
   "display_name": "Python 3",
   "language": "python",
   "name": "python3"
  },
  "language_info": {
   "codemirror_mode": {
    "name": "ipython",
    "version": 3
   },
   "file_extension": ".py",
   "mimetype": "text/x-python",
   "name": "python",
   "nbconvert_exporter": "python",
   "pygments_lexer": "ipython3",
   "version": "3.8.1"
  }
 },
 "nbformat": 4,
 "nbformat_minor": 4
}
